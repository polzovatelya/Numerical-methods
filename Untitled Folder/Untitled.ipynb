{
 "cells": [
  {
   "cell_type": "code",
   "execution_count": 36,
   "id": "bd612b2c",
   "metadata": {},
   "outputs": [
    {
     "name": "stderr",
     "output_type": "stream",
     "text": [
      "No artists with labels found to put in legend.  Note that artists whose label start with an underscore are ignored when legend() is called with no argument.\n"
     ]
    },
    {
     "data": {
      "image/png": "[encoded data removed]",
      "text/plain": [
       "<Figure size 640x480 with 1 Axes>"
      ]
     },
     "metadata": {},
     "output_type": "display_data"
    }
   ],
   "source": [
    "import numpy as np\n",
    "import matplotlib.pyplot as plt\n",
    "\n",
    "# Функция для решения уравнения Ax=b методом Якоби\n",
    "def jacobi_method(A, b, x0, max_iter=3):\n",
    "    n = len(b)\n",
    "    x = x0.copy()\n",
    "    x1=[]\n",
    "    x2 = []\n",
    "    x_new = x0.copy()\n",
    "    for it in range(max_iter):\n",
    "        for i in range(n):\n",
    "            x_new[i] = (b[i] - np.dot(A[i, :i], x[:i]) - np.dot(A[i, i + 1:], x[i + 1:])) / A[i, i]\n",
    "        x1.append(x_new[0])\n",
    "        x2.append(x_new[1])\n",
    "        \n",
    "        \n",
    "    return x1, x2\n",
    "\n",
    "# Пример уравнения Ax=b: 3x + y = 9, x + 2y = 8\n",
    "A = np.array([[2, 1],\n",
    "              [1, -3]])\n",
    "b = np.array([-7, 0])\n",
    "x0 = np.zeros_like(b)\n",
    "\n",
    "# Решение уравнения методом Якоби\n",
    "x1, x2= jacobi_method(A, b, x0)\n",
    "\n",
    "\n",
    "\n",
    "# функция решения системы уравнений методом Зейделя\n",
    "def gauss_seidel(A, b, x0, max_iter=3):\n",
    "    n = len(b)\n",
    "    x = x0.copy()\n",
    "    x1 = []\n",
    "    x2 = []\n",
    "    for _ in range(max_iter):\n",
    "        x_new = np.zeros_like(x)\n",
    "        for i in range(n):\n",
    "            x_new[i] = (b[i] - np.dot(A[i, :i], x_new[:i]) - np.dot(A[i, i + 1:], x[i + 1:])) / A[i, i]\n",
    "        x = x_new\n",
    "        x1.append(x_new[0])\n",
    "        x2.append(x_new[1])\n",
    "    return x1,x2\n",
    "\n",
    "# матрица коэффициентов и вектор свободных членов\n",
    "A = np.array([[2, 1],\n",
    "              [1, -3]])\n",
    "b = np.array([-7, 0])\n",
    "\n",
    "# начальное приближение\n",
    "x0 = np.zeros_like(b)\n",
    "\n",
    "# решение системы уравнений методом Зейделя\n",
    "x11, x22 = gauss_seidel(A, b, x0)\n",
    "\n",
    "\n",
    "plt.plot(range(1, 4), x_values)\n",
    "# plt.plot(x1,x2)\n",
    "plt.plot(x22,x11)\n",
    "plt.legend()\n",
    "plt.show()"
   ]
  },
  {
   "cell_type": "code",
   "execution_count": null,
   "id": "7731c74b",
   "metadata": {},
   "outputs": [],
   "source": [
    "from pprint import pprint\n",
    "from numpy import array, zeros, diag, diagflat, dot\n",
    "\n",
    "def jacobi(A,b,N=25,x=None):\n",
    "    \"\"\"Solves the equation Ax=b via the Jacobi iterative method.\"\"\"\n",
    "    # Create an initial guess if needed                                                                                                                                                            \n",
    "    if x is None:\n",
    "        x = zeros(len(A[0]))\n",
    "\n",
    "    # Create a vector of the diagonal elements of A                                                                                                                                                \n",
    "    # and subtract them from A                                                                                                                                                                     \n",
    "    D = diag(A)\n",
    "    R = A - diagflat(D)\n",
    "\n",
    "    # Iterate for N times                                                                                                                                                                          \n",
    "    for i in range(N):\n",
    "        x = (b - dot(R,x)) / D\n",
    "    return x\n",
    "\n",
    "A = array([[2.0,1.0],[5.0,7.0]])\n",
    "b = array([11.0,13.0])\n",
    "guess = array([1.0,1.0])\n",
    "\n",
    "sol = jacobi(A,b,N=25,x=guess)\n",
    "\n",
    "\n"
   ]
  },
  {
   "cell_type": "code",
   "execution_count": null,
   "id": "83e39786",
   "metadata": {},
   "outputs": [],
   "source": []
  }
 ],
 "metadata": {
  "kernelspec": {
   "display_name": "Python 3 (ipykernel)",
   "language": "python",
   "name": "python3"
  },
  "language_info": {
   "codemirror_mode": {
    "name": "ipython",
    "version": 3
   },
   "file_extension": ".py",
   "mimetype": "text/x-python",
   "name": "python",
   "nbconvert_exporter": "python",
   "pygments_lexer": "ipython3",
   "version": "3.11.5"
  }
 },
 "nbformat": 4,
 "nbformat_minor": 5
}
